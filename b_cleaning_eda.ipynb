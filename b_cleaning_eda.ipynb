{
 "cells": [
  {
   "cell_type": "code",
   "execution_count": 2,
   "metadata": {},
   "outputs": [],
   "source": [
    "import pandas as pd\n",
    "import numpy as np\n",
    "\n",
    "import matplotlib.pyplot as plt\n",
    "\n",
    "from nltk.stem.porter import PorterStemmer\n",
    "from nltk.stem import WordNetLemmatizer\n",
    "from nltk.tokenize import sent_tokenize, word_tokenize, RegexpTokenizer\n",
    "from sklearn.feature_extraction.text import CountVectorizer, TfidfVectorizer\n",
    "from sklearn.model_selection import train_test_split, GridSearchCV\n",
    "from nltk.sentiment.vader import SentimentIntensityAnalyzer"
   ]
  },
  {
   "cell_type": "markdown",
   "metadata": {},
   "source": [
    "# Cleaning  "
   ]
  },
  {
   "cell_type": "code",
   "execution_count": 5,
   "metadata": {},
   "outputs": [],
   "source": [
    "df = pd.read_csv('data/unpopular_rants_30k.csv')"
   ]
  },
  {
   "cell_type": "code",
   "execution_count": 227,
   "metadata": {},
   "outputs": [
    {
     "name": "stdout",
     "output_type": "stream",
     "text": [
      "<class 'pandas.core.frame.DataFrame'>\n",
      "RangeIndex: 30000 entries, 0 to 29999\n",
      "Data columns (total 7 columns):\n",
      " #   Column       Non-Null Count  Dtype \n",
      "---  ------       --------------  ----- \n",
      " 0   title        30000 non-null  object\n",
      " 1   created_utc  30000 non-null  int64 \n",
      " 2   selftext     28957 non-null  object\n",
      " 3   subreddit    30000 non-null  object\n",
      " 4   author       30000 non-null  object\n",
      " 5   media_only   30000 non-null  bool  \n",
      " 6   permalink    30000 non-null  object\n",
      "dtypes: bool(1), int64(1), object(5)\n",
      "memory usage: 1.4+ MB\n"
     ]
    }
   ],
   "source": [
    "#df has 30k observations, 15k from the 'rant' subreddit, and 15k from the 'unpopularopinions' subreddit\n",
    "#need to remove rows will null in 'selftext', will need 'selftext' for modeling\n",
    "df.info()"
   ]
  },
  {
   "cell_type": "code",
   "execution_count": 228,
   "metadata": {},
   "outputs": [],
   "source": [
    "df.dropna(inplace=True)"
   ]
  },
  {
   "cell_type": "code",
   "execution_count": 229,
   "metadata": {},
   "outputs": [
    {
     "data": {
      "text/plain": [
       "title          0\n",
       "created_utc    0\n",
       "selftext       0\n",
       "subreddit      0\n",
       "author         0\n",
       "media_only     0\n",
       "permalink      0\n",
       "dtype: int64"
      ]
     },
     "execution_count": 229,
     "metadata": {},
     "output_type": "execute_result"
    }
   ],
   "source": [
    "#df is free of nulls\n",
    "df.isnull().sum()"
   ]
  },
  {
   "cell_type": "code",
   "execution_count": 230,
   "metadata": {},
   "outputs": [
    {
     "data": {
      "text/plain": [
       "(28957, 7)"
      ]
     },
     "execution_count": 230,
     "metadata": {},
     "output_type": "execute_result"
    }
   ],
   "source": [
    "# 28957 rows remain\n",
    "df.shape"
   ]
  },
  {
   "cell_type": "code",
   "execution_count": 231,
   "metadata": {},
   "outputs": [
    {
     "data": {
      "text/html": [
       "<div>\n",
       "<style scoped>\n",
       "    .dataframe tbody tr th:only-of-type {\n",
       "        vertical-align: middle;\n",
       "    }\n",
       "\n",
       "    .dataframe tbody tr th {\n",
       "        vertical-align: top;\n",
       "    }\n",
       "\n",
       "    .dataframe thead th {\n",
       "        text-align: right;\n",
       "    }\n",
       "</style>\n",
       "<table border=\"1\" class=\"dataframe\">\n",
       "  <thead>\n",
       "    <tr style=\"text-align: right;\">\n",
       "      <th></th>\n",
       "      <th>title</th>\n",
       "      <th>created_utc</th>\n",
       "      <th>selftext</th>\n",
       "      <th>subreddit</th>\n",
       "      <th>author</th>\n",
       "      <th>media_only</th>\n",
       "      <th>permalink</th>\n",
       "    </tr>\n",
       "  </thead>\n",
       "  <tbody>\n",
       "    <tr>\n",
       "      <th>29995</th>\n",
       "      <td>A battle pass system in a video game makes it ...</td>\n",
       "      <td>1615248988</td>\n",
       "      <td>[removed]</td>\n",
       "      <td>unpopularopinion</td>\n",
       "      <td>SomeGuysCookie</td>\n",
       "      <td>False</td>\n",
       "      <td>/r/unpopularopinion/comments/m0u54c/a_battle_p...</td>\n",
       "    </tr>\n",
       "    <tr>\n",
       "      <th>29996</th>\n",
       "      <td>I hate John Greene and the Crash Course videos</td>\n",
       "      <td>1615248952</td>\n",
       "      <td>I find it a bit scary how mainstream the Crash...</td>\n",
       "      <td>unpopularopinion</td>\n",
       "      <td>thedankmister</td>\n",
       "      <td>False</td>\n",
       "      <td>/r/unpopularopinion/comments/m0u4mz/i_hate_joh...</td>\n",
       "    </tr>\n",
       "    <tr>\n",
       "      <th>29997</th>\n",
       "      <td>Car gasoline smells good</td>\n",
       "      <td>1615248944</td>\n",
       "      <td>[removed]</td>\n",
       "      <td>unpopularopinion</td>\n",
       "      <td>TheRealistMF</td>\n",
       "      <td>False</td>\n",
       "      <td>/r/unpopularopinion/comments/m0u4jk/car_gasoli...</td>\n",
       "    </tr>\n",
       "    <tr>\n",
       "      <th>29998</th>\n",
       "      <td>Best seat in a car is in the back, right behin...</td>\n",
       "      <td>1615248931</td>\n",
       "      <td>I genuinely never understood why people would ...</td>\n",
       "      <td>unpopularopinion</td>\n",
       "      <td>fatima_mdx</td>\n",
       "      <td>False</td>\n",
       "      <td>/r/unpopularopinion/comments/m0u4dt/best_seat_...</td>\n",
       "    </tr>\n",
       "    <tr>\n",
       "      <th>29999</th>\n",
       "      <td>Teachers are annoying and it’s not because of ...</td>\n",
       "      <td>1615248888</td>\n",
       "      <td>People hate on teachers now because they won’t...</td>\n",
       "      <td>unpopularopinion</td>\n",
       "      <td>Rrrroman</td>\n",
       "      <td>False</td>\n",
       "      <td>/r/unpopularopinion/comments/m0u3v5/teachers_a...</td>\n",
       "    </tr>\n",
       "  </tbody>\n",
       "</table>\n",
       "</div>"
      ],
      "text/plain": [
       "                                                   title  created_utc  \\\n",
       "29995  A battle pass system in a video game makes it ...   1615248988   \n",
       "29996     I hate John Greene and the Crash Course videos   1615248952   \n",
       "29997                           Car gasoline smells good   1615248944   \n",
       "29998  Best seat in a car is in the back, right behin...   1615248931   \n",
       "29999  Teachers are annoying and it’s not because of ...   1615248888   \n",
       "\n",
       "                                                selftext         subreddit  \\\n",
       "29995                                          [removed]  unpopularopinion   \n",
       "29996  I find it a bit scary how mainstream the Crash...  unpopularopinion   \n",
       "29997                                          [removed]  unpopularopinion   \n",
       "29998  I genuinely never understood why people would ...  unpopularopinion   \n",
       "29999  People hate on teachers now because they won’t...  unpopularopinion   \n",
       "\n",
       "               author  media_only  \\\n",
       "29995  SomeGuysCookie       False   \n",
       "29996   thedankmister       False   \n",
       "29997    TheRealistMF       False   \n",
       "29998      fatima_mdx       False   \n",
       "29999        Rrrroman       False   \n",
       "\n",
       "                                               permalink  \n",
       "29995  /r/unpopularopinion/comments/m0u54c/a_battle_p...  \n",
       "29996  /r/unpopularopinion/comments/m0u4mz/i_hate_joh...  \n",
       "29997  /r/unpopularopinion/comments/m0u4jk/car_gasoli...  \n",
       "29998  /r/unpopularopinion/comments/m0u4dt/best_seat_...  \n",
       "29999  /r/unpopularopinion/comments/m0u3v5/teachers_a...  "
      ]
     },
     "execution_count": 231,
     "metadata": {},
     "output_type": "execute_result"
    }
   ],
   "source": [
    "#need to exclude rows with '[removed]' in selftext, those posts were removed by the moderators\n",
    "df.tail()"
   ]
  },
  {
   "cell_type": "code",
   "execution_count": 232,
   "metadata": {},
   "outputs": [
    {
     "data": {
      "text/plain": [
       "(16497, 7)"
      ]
     },
     "execution_count": 232,
     "metadata": {},
     "output_type": "execute_result"
    }
   ],
   "source": [
    "#16497 observations remain\n",
    "df = df.loc[df['selftext'] != '[removed]', :]\n",
    "df.shape"
   ]
  },
  {
   "cell_type": "code",
   "execution_count": 233,
   "metadata": {},
   "outputs": [
    {
     "data": {
      "text/plain": [
       "(16023, 7)"
      ]
     },
     "execution_count": 233,
     "metadata": {},
     "output_type": "execute_result"
    }
   ],
   "source": [
    "# 16023 observations remain after removing rows with '[removed]' or '[deleted]' in 'selftext'\n",
    "df = df.loc[df['selftext'] != '[deleted]', :]\n",
    "df.shape"
   ]
  },
  {
   "cell_type": "code",
   "execution_count": 234,
   "metadata": {},
   "outputs": [
    {
     "data": {
      "text/plain": [
       "rant                0.530799\n",
       "unpopularopinion    0.469201\n",
       "Name: subreddit, dtype: float64"
      ]
     },
     "execution_count": 234,
     "metadata": {},
     "output_type": "execute_result"
    }
   ],
   "source": [
    "# 53% of the posts are from 'rant', 47% are from unpop-opinions\n",
    "df['subreddit'].value_counts(normalize=True)"
   ]
  },
  {
   "cell_type": "code",
   "execution_count": 235,
   "metadata": {},
   "outputs": [],
   "source": [
    "df.reset_index(drop=True, inplace=True)"
   ]
  },
  {
   "cell_type": "code",
   "execution_count": 236,
   "metadata": {},
   "outputs": [],
   "source": [
    "#making a column that combines the title of the post, with the selftext\n",
    "df['all_text'] = df['title'] + ' ' + df['selftext']"
   ]
  },
  {
   "cell_type": "code",
   "execution_count": 237,
   "metadata": {},
   "outputs": [
    {
     "name": "stderr",
     "output_type": "stream",
     "text": [
      "<ipython-input-237-721b3fc30edf>:3: SettingWithCopyWarning: \n",
      "A value is trying to be set on a copy of a slice from a DataFrame\n",
      "\n",
      "See the caveats in the documentation: https://pandas.pydata.org/pandas-docs/stable/user_guide/indexing.html#returning-a-view-versus-a-copy\n",
      "  df['all_text'][i] = df['all_text'][i].replace('\\n', ' ')\n"
     ]
    }
   ],
   "source": [
    "#noticed a lot of '\\n' in the text indicating a new line, going to replace those with empty space-text\n",
    "for i in range(0 ,len(df)):\n",
    "    df['all_text'][i] = df['all_text'][i].replace('\\n', ' ')"
   ]
  },
  {
   "cell_type": "code",
   "execution_count": 238,
   "metadata": {},
   "outputs": [
    {
     "data": {
      "text/plain": [
       "'Refusing to wear a mask in public during a pandemic is the same as not turning your headlights on when it\\'s raining. And it sure has been raining for a long time.     I\\'ve been to two gravesite burials 57 days apart from each other. We could have prevented all these needless deaths. What happened to \"We\\'re all in this together\"?'"
      ]
     },
     "execution_count": 238,
     "metadata": {},
     "output_type": "execute_result"
    }
   ],
   "source": [
    "#example of an all_text entry \n",
    "df['all_text'][3333]"
   ]
  },
  {
   "cell_type": "code",
   "execution_count": 239,
   "metadata": {},
   "outputs": [],
   "source": [
    "#David R. found this method to remove special characters from the text. \n",
    "df['all_text'] = df['all_text'].replace('[^\\w ]','',regex=True).astype(str) "
   ]
  },
  {
   "cell_type": "code",
   "execution_count": 240,
   "metadata": {},
   "outputs": [
    {
     "data": {
      "text/plain": [
       "'policemen today I watched another video of police fucking someone up  I had a conversation with friends and I was blown away when they took the cops side and I dont know if I am in bazzarro world or what  The cops responded to a car stalled in traffic and was a middle aged black guy in the drivers seat not moving still with shoulder belt on  The cops screamed at him to get out of the car  driver still not moving  so they tased him in the head and pepper sprayed him  Guy still not moving  They open the door and drag him to the round and let his car roll over his foot  Guy still not responding  The fucking guy was having a stroke and the only reponse the cops had was to tase him and pepper spray him  Why is there an undeclared war on the public  Where are the cops that I was taught were your friends and good guys  Now we have paramilitary thugs who have the ability to maim and kill without any consequences  WHAT THE FUCK  I am mid 60s american southern male  I have worked long and hard to learn to not to be racist to look at everyones character to not deal in generalities and be accepting of others differences  I have policeman friends  I get it that sometimes they are scared in situations  Why doesnt their training alleviate their insecurity  Why are they taught that we are the enemy'"
      ]
     },
     "execution_count": 240,
     "metadata": {},
     "output_type": "execute_result"
    }
   ],
   "source": [
    "#all special characters have been removed from 'all_text'\n",
    "#didnt remove them from 'title' or 'selftext', in case I need those characters later\n",
    "df['all_text'][0]"
   ]
  },
  {
   "cell_type": "markdown",
   "metadata": {},
   "source": [
    "# EDA % More Cleaning "
   ]
  },
  {
   "cell_type": "code",
   "execution_count": 241,
   "metadata": {},
   "outputs": [],
   "source": [
    "#idea to create word_count for each row came from lab 5.02\n",
    "total_word_count = []\n",
    "for i in range(0, len(df['all_text'])):\n",
    "    split_words = df['all_text'][i].split(' ')\n",
    "    word_count = len(split_words)\n",
    "    total_word_count.append(word_count)\n",
    "df['total_word_count'] = total_word_count"
   ]
  },
  {
   "cell_type": "code",
   "execution_count": 242,
   "metadata": {},
   "outputs": [
    {
     "data": {
      "text/plain": [
       "subreddit\n",
       "rant                211.968724\n",
       "unpopularopinion    134.295956\n",
       "Name: total_word_count, dtype: float64"
      ]
     },
     "execution_count": 242,
     "metadata": {},
     "output_type": "execute_result"
    }
   ],
   "source": [
    "#the rant subreddit seems to have more total words per post than unpop-opinions\n",
    "df.groupby('subreddit')['total_word_count'].mean()"
   ]
  },
  {
   "cell_type": "code",
   "execution_count": 243,
   "metadata": {},
   "outputs": [
    {
     "data": {
      "text/plain": [
       "count    16023.000000\n",
       "mean       175.524621\n",
       "std        178.676756\n",
       "min          2.000000\n",
       "25%         74.000000\n",
       "50%        122.000000\n",
       "75%        213.500000\n",
       "max       4686.000000\n",
       "Name: total_word_count, dtype: float64"
      ]
     },
     "execution_count": 243,
     "metadata": {},
     "output_type": "execute_result"
    }
   ],
   "source": [
    "#need to do something about these monologue posts, they will throw my model off \n",
    "df['total_word_count'].describe()"
   ]
  },
  {
   "cell_type": "code",
   "execution_count": 244,
   "metadata": {},
   "outputs": [],
   "source": [
    "#removing total_words_counts above 1,000\n",
    "df = df.loc[df['total_word_count'] <= 1000, :]"
   ]
  },
  {
   "cell_type": "code",
   "execution_count": 245,
   "metadata": {},
   "outputs": [],
   "source": [
    "#removing total_word_counts less than 25 \n",
    "df = df.loc[df['total_word_count'] > 25, :]"
   ]
  },
  {
   "cell_type": "code",
   "execution_count": 246,
   "metadata": {},
   "outputs": [
    {
     "data": {
      "text/plain": [
       "(15615, 9)"
      ]
     },
     "execution_count": 246,
     "metadata": {},
     "output_type": "execute_result"
    }
   ],
   "source": [
    "#15916 posts remain\n",
    "df.shape"
   ]
  },
  {
   "cell_type": "code",
   "execution_count": 247,
   "metadata": {},
   "outputs": [
    {
     "data": {
      "text/plain": [
       "count    15615.000000\n",
       "mean       170.275696\n",
       "std        142.180963\n",
       "min         26.000000\n",
       "25%         76.000000\n",
       "50%        124.000000\n",
       "75%        213.000000\n",
       "max        993.000000\n",
       "Name: total_word_count, dtype: float64"
      ]
     },
     "execution_count": 247,
     "metadata": {},
     "output_type": "execute_result"
    }
   ],
   "source": [
    "df['total_word_count'].describe()"
   ]
  },
  {
   "cell_type": "code",
   "execution_count": 248,
   "metadata": {},
   "outputs": [
    {
     "data": {
      "image/png": "[encoded data removed]",
      "text/plain": [
       "<Figure size 432x288 with 1 Axes>"
      ]
     },
     "metadata": {
      "needs_background": "light"
     },
     "output_type": "display_data"
    }
   ],
   "source": [
    "plt.hist(df['total_word_count']);"
   ]
  },
  {
   "cell_type": "markdown",
   "metadata": {},
   "source": [
    "Most of the posts are under 200 words\n"
   ]
  },
  {
   "cell_type": "code",
   "execution_count": 249,
   "metadata": {},
   "outputs": [
    {
     "data": {
      "text/plain": [
       "subreddit\n",
       "rant                204.153439\n",
       "unpopularopinion    133.506944\n",
       "Name: total_word_count, dtype: float64"
      ]
     },
     "execution_count": 249,
     "metadata": {},
     "output_type": "execute_result"
    }
   ],
   "source": [
    "#after removing outliers, rant still seems to have a higher average total_word_count than unpop-opinions\n",
    "df.groupby('subreddit')['total_word_count'].mean()"
   ]
  },
  {
   "cell_type": "code",
   "execution_count": 250,
   "metadata": {},
   "outputs": [
    {
     "data": {
      "text/plain": [
       "subreddit\n",
       "rant                164.350548\n",
       "unpopularopinion    101.215228\n",
       "Name: total_word_count, dtype: float64"
      ]
     },
     "execution_count": 250,
     "metadata": {},
     "output_type": "execute_result"
    }
   ],
   "source": [
    "#rant has a higher stand.dev for total_word_count than unpop-opinions\n",
    "df.groupby('subreddit')['total_word_count'].std()"
   ]
  },
  {
   "cell_type": "code",
   "execution_count": 251,
   "metadata": {},
   "outputs": [
    {
     "data": {
      "image/png": "[encoded data removed]",
      "text/plain": [
       "<Figure size 432x288 with 1 Axes>"
      ]
     },
     "metadata": {
      "needs_background": "light"
     },
     "output_type": "display_data"
    }
   ],
   "source": [
    "rant_count = df.loc[df['subreddit'] == 'rant', 'total_word_count']\n",
    "pins_count = df.loc[df['subreddit'] == 'unpopularopinion', 'total_word_count']\n",
    "\n",
    "plt.hist([rant_count, pins_count], color=['r', 'b'], bins=100)\n",
    "plt.legend(labels=['rant', 'unpopularopinions'])\n",
    "plt.title('Post Word Count by Subreddit');"
   ]
  },
  {
   "cell_type": "markdown",
   "metadata": {},
   "source": [
    "The rant histogram is smoother and has a higher word count on average, while the unpopular-opinion histgram is very steep and drops off quickly as the word count increases.  "
   ]
  },
  {
   "cell_type": "code",
   "execution_count": 252,
   "metadata": {},
   "outputs": [
    {
     "data": {
      "text/html": [
       "<div>\n",
       "<style scoped>\n",
       "    .dataframe tbody tr th:only-of-type {\n",
       "        vertical-align: middle;\n",
       "    }\n",
       "\n",
       "    .dataframe tbody tr th {\n",
       "        vertical-align: top;\n",
       "    }\n",
       "\n",
       "    .dataframe thead th {\n",
       "        text-align: right;\n",
       "    }\n",
       "</style>\n",
       "<table border=\"1\" class=\"dataframe\">\n",
       "  <thead>\n",
       "    <tr style=\"text-align: right;\">\n",
       "      <th></th>\n",
       "      <th>title</th>\n",
       "      <th>created_utc</th>\n",
       "      <th>selftext</th>\n",
       "      <th>subreddit</th>\n",
       "      <th>author</th>\n",
       "      <th>media_only</th>\n",
       "      <th>permalink</th>\n",
       "      <th>all_text</th>\n",
       "      <th>total_word_count</th>\n",
       "    </tr>\n",
       "  </thead>\n",
       "  <tbody>\n",
       "    <tr>\n",
       "      <th>0</th>\n",
       "      <td>policemen?</td>\n",
       "      <td>1617068544</td>\n",
       "      <td>today I watched another video of police fuckin...</td>\n",
       "      <td>rant</td>\n",
       "      <td>redyrytnow</td>\n",
       "      <td>False</td>\n",
       "      <td>/r/rant/comments/mg4z9o/policemen/</td>\n",
       "      <td>policemen today I watched another video of pol...</td>\n",
       "      <td>268</td>\n",
       "    </tr>\n",
       "    <tr>\n",
       "      <th>1</th>\n",
       "      <td>To my GF fuck off I dont care if you are disab...</td>\n",
       "      <td>1617066705</td>\n",
       "      <td>I'm autistic yes but I AM NOT FUCKING DISABLED...</td>\n",
       "      <td>rant</td>\n",
       "      <td>the-ugly-potato</td>\n",
       "      <td>False</td>\n",
       "      <td>/r/rant/comments/mg4fj4/to_my_gf_fuck_off_i_do...</td>\n",
       "      <td>To my GF fuck off I dont care if you are disab...</td>\n",
       "      <td>139</td>\n",
       "    </tr>\n",
       "    <tr>\n",
       "      <th>2</th>\n",
       "      <td>It should be acceptable to write \"it's\" instea...</td>\n",
       "      <td>1617065894</td>\n",
       "      <td>People whine and whine about how some people w...</td>\n",
       "      <td>rant</td>\n",
       "      <td>nam3pbrc</td>\n",
       "      <td>False</td>\n",
       "      <td>/r/rant/comments/mg46l6/it_should_be_acceptabl...</td>\n",
       "      <td>It should be acceptable to write its instead o...</td>\n",
       "      <td>229</td>\n",
       "    </tr>\n",
       "    <tr>\n",
       "      <th>3</th>\n",
       "      <td>Twitter is the absolute worst!</td>\n",
       "      <td>1617065669</td>\n",
       "      <td>I got suspended just now and I don’t know why,...</td>\n",
       "      <td>rant</td>\n",
       "      <td>Snoo-84344</td>\n",
       "      <td>False</td>\n",
       "      <td>/r/rant/comments/mg448x/twitter_is_the_absolut...</td>\n",
       "      <td>Twitter is the absolute worst I got suspended ...</td>\n",
       "      <td>45</td>\n",
       "    </tr>\n",
       "    <tr>\n",
       "      <th>4</th>\n",
       "      <td>Is it too hard to have a single fuckiing beer ...</td>\n",
       "      <td>1617064702</td>\n",
       "      <td>Hi ranters,\\n\\nI was always trying to be hones...</td>\n",
       "      <td>rant</td>\n",
       "      <td>13Mark17</td>\n",
       "      <td>False</td>\n",
       "      <td>/r/rant/comments/mg3ty9/is_it_too_hard_to_have...</td>\n",
       "      <td>Is it too hard to have a single fuckiing beer ...</td>\n",
       "      <td>339</td>\n",
       "    </tr>\n",
       "  </tbody>\n",
       "</table>\n",
       "</div>"
      ],
      "text/plain": [
       "                                               title  created_utc  \\\n",
       "0                                         policemen?   1617068544   \n",
       "1  To my GF fuck off I dont care if you are disab...   1617066705   \n",
       "2  It should be acceptable to write \"it's\" instea...   1617065894   \n",
       "3                     Twitter is the absolute worst!   1617065669   \n",
       "4  Is it too hard to have a single fuckiing beer ...   1617064702   \n",
       "\n",
       "                                            selftext subreddit  \\\n",
       "0  today I watched another video of police fuckin...      rant   \n",
       "1  I'm autistic yes but I AM NOT FUCKING DISABLED...      rant   \n",
       "2  People whine and whine about how some people w...      rant   \n",
       "3  I got suspended just now and I don’t know why,...      rant   \n",
       "4  Hi ranters,\\n\\nI was always trying to be hones...      rant   \n",
       "\n",
       "            author  media_only  \\\n",
       "0       redyrytnow       False   \n",
       "1  the-ugly-potato       False   \n",
       "2         nam3pbrc       False   \n",
       "3       Snoo-84344       False   \n",
       "4         13Mark17       False   \n",
       "\n",
       "                                           permalink  \\\n",
       "0                 /r/rant/comments/mg4z9o/policemen/   \n",
       "1  /r/rant/comments/mg4fj4/to_my_gf_fuck_off_i_do...   \n",
       "2  /r/rant/comments/mg46l6/it_should_be_acceptabl...   \n",
       "3  /r/rant/comments/mg448x/twitter_is_the_absolut...   \n",
       "4  /r/rant/comments/mg3ty9/is_it_too_hard_to_have...   \n",
       "\n",
       "                                            all_text  total_word_count  \n",
       "0  policemen today I watched another video of pol...               268  \n",
       "1  To my GF fuck off I dont care if you are disab...               139  \n",
       "2  It should be acceptable to write its instead o...               229  \n",
       "3  Twitter is the absolute worst I got suspended ...                45  \n",
       "4  Is it too hard to have a single fuckiing beer ...               339  "
      ]
     },
     "execution_count": 252,
     "metadata": {},
     "output_type": "execute_result"
    }
   ],
   "source": [
    "df.head()"
   ]
  },
  {
   "cell_type": "code",
   "execution_count": 253,
   "metadata": {},
   "outputs": [],
   "source": [
    "df.to_csv('data/clean_opinion_rants.csv', index=False)"
   ]
  },
  {
   "cell_type": "markdown",
   "metadata": {},
   "source": [
    "# Lemmatizing & Stemming "
   ]
  },
  {
   "cell_type": "code",
   "execution_count": 258,
   "metadata": {},
   "outputs": [],
   "source": [
    "df.reset_index(inplace=True)"
   ]
  },
  {
   "cell_type": "code",
   "execution_count": 259,
   "metadata": {},
   "outputs": [],
   "source": [
    "lemmatizer = WordNetLemmatizer()"
   ]
  },
  {
   "cell_type": "code",
   "execution_count": 260,
   "metadata": {},
   "outputs": [],
   "source": [
    "p_stemmer = PorterStemmer()"
   ]
  },
  {
   "cell_type": "code",
   "execution_count": 261,
   "metadata": {},
   "outputs": [],
   "source": [
    "#created this function to stem/lemmatize all of the words in the 'all_text' column and return a list of \n",
    "# strings of each 'all_text' post stemmed/lammatized\n",
    "def base_words(df, method):\n",
    "    if method == 'stem':\n",
    "        stems = []\n",
    "        for i in range(len(df['all_text'])):\n",
    "            final = ''\n",
    "            text = [word for word in df['all_text'][i].split(' ') if word != '']\n",
    "            stemmed = [p_stemmer.stem(word) for word in text]\n",
    "            for stem in stemmed:\n",
    "                final += stem + ' '\n",
    "            stems.append(final)\n",
    "        return stems\n",
    "    if method == 'lemm':\n",
    "        lemms = []\n",
    "        for i in range(len(df['all_text'])):\n",
    "            final = ''\n",
    "            text = [word for word in df['all_text'][i].split(' ') if word != '']\n",
    "            lemmed = [lemmatizer.lemmatize(word) for word in text]\n",
    "            for lem in lemmed:\n",
    "                final += lem + ' '\n",
    "            lemms.append(final)\n",
    "        return lemms\n",
    "    else:\n",
    "        return 'Method not found!'"
   ]
  },
  {
   "cell_type": "code",
   "execution_count": 262,
   "metadata": {},
   "outputs": [],
   "source": [
    "lem_words = base_words(df, 'lemm')"
   ]
  },
  {
   "cell_type": "code",
   "execution_count": 263,
   "metadata": {},
   "outputs": [],
   "source": [
    "stem_words = base_words(df, 'stem')"
   ]
  },
  {
   "cell_type": "code",
   "execution_count": 264,
   "metadata": {},
   "outputs": [
    {
     "data": {
      "text/plain": [
       "'Dating in High School On Reddit in movie on tv people always talk about guy trying hard to get girl in high school Dude I went to a HS where girl were DESPERATE for guy and played sub to get them Also guy were seriously dating for PERSONALITY Was I in bizarro land '"
      ]
     },
     "execution_count": 264,
     "metadata": {},
     "output_type": "execute_result"
    }
   ],
   "source": [
    "lem_words[4444]"
   ]
  },
  {
   "cell_type": "code",
   "execution_count": 265,
   "metadata": {},
   "outputs": [
    {
     "data": {
      "text/plain": [
       "'date in high school On reddit in movi on tv peopl alway talk about guy tri hard to get girl in high school dude I went to a HS where girl were desper for guy and play sub to get them also guy were serious date for person wa I in bizarro land '"
      ]
     },
     "execution_count": 265,
     "metadata": {},
     "output_type": "execute_result"
    }
   ],
   "source": [
    "stem_words[4444]"
   ]
  },
  {
   "cell_type": "code",
   "execution_count": 266,
   "metadata": {},
   "outputs": [],
   "source": [
    "#adding columns for the stemmed and lemmatized words\n",
    "df['stem'] = stem_words\n",
    "df['lem'] = lem_words"
   ]
  },
  {
   "cell_type": "code",
   "execution_count": null,
   "metadata": {},
   "outputs": [],
   "source": [
    "df.to_csv('data/stemlem.csv', index=False)"
   ]
  },
  {
   "cell_type": "markdown",
   "metadata": {},
   "source": [
    "# Sentiment Analysis "
   ]
  },
  {
   "cell_type": "code",
   "execution_count": 267,
   "metadata": {},
   "outputs": [],
   "source": [
    "sentiment = SentimentIntensityAnalyzer()"
   ]
  },
  {
   "cell_type": "code",
   "execution_count": 268,
   "metadata": {},
   "outputs": [],
   "source": [
    "#this function will return a list containing each posts overall sentiment\n",
    "def get_sentiments(sentences):\n",
    "    sentiments = []\n",
    "    for post in sentences:\n",
    "        sent = sentiment.polarity_scores(post)['compound']\n",
    "        sentiments.append(sent)\n",
    "    return sentiments"
   ]
  },
  {
   "cell_type": "code",
   "execution_count": 303,
   "metadata": {},
   "outputs": [],
   "source": [
    "rts = df.loc[df['subreddit'] == 'rant', ['lem', 'total_word_count']]\n",
    "ops = df.loc[df['subreddit'] == 'unpopularopinion', ['lem', 'total_word_count']]"
   ]
  },
  {
   "cell_type": "code",
   "execution_count": 304,
   "metadata": {},
   "outputs": [],
   "source": [
    "rant_sentiments = get_sentiments(rts['lem'])\n",
    "opinion_sentiments = get_sentiments(ops['lem'])"
   ]
  },
  {
   "cell_type": "code",
   "execution_count": 309,
   "metadata": {},
   "outputs": [],
   "source": [
    "rts['sent'] = rant_sentiments\n",
    "ops['sent'] = opinion_sentiments"
   ]
  },
  {
   "cell_type": "code",
   "execution_count": 391,
   "metadata": {},
   "outputs": [
    {
     "data": {
      "image/png": "[encoded data removed]",
      "text/plain": [
       "<Figure size 432x288 with 1 Axes>"
      ]
     },
     "metadata": {
      "needs_background": "light"
     },
     "output_type": "display_data"
    }
   ],
   "source": [
    "plt.hist(rts['sent'], bins=50)\n",
    "plt.title('Distribution of Post Sentiment for Rant')\n",
    "plt.xlabel('Sentiment')\n",
    "plt.ylabel('Number of Posts');"
   ]
  },
  {
   "cell_type": "markdown",
   "metadata": {},
   "source": [
    "The distribution shows that most posts are either very positive or very negative, which makes sense when talking about someone ranting. Most of the rants are negative. "
   ]
  },
  {
   "cell_type": "code",
   "execution_count": 392,
   "metadata": {},
   "outputs": [
    {
     "data": {
      "image/png": "[encoded data removed]",
      "text/plain": [
       "<Figure size 432x288 with 1 Axes>"
      ]
     },
     "metadata": {
      "needs_background": "light"
     },
     "output_type": "display_data"
    }
   ],
   "source": [
    "plt.hist(ops['sent'], bins=50)\n",
    "plt.title('Distribution of Post Sentiment for Unpopular-Opinions')\n",
    "plt.xlabel('Sentiment')\n",
    "plt.ylabel('Number of Posts');"
   ]
  },
  {
   "cell_type": "markdown",
   "metadata": {},
   "source": [
    "This distribution is more evenly spread out, more of a balance between positive and negative posts than the rant posts. But the same trend as above holds true for unpop-opinions, most posts are either very positve or very negative.  "
   ]
  },
  {
   "cell_type": "code",
   "execution_count": 319,
   "metadata": {},
   "outputs": [
    {
     "data": {
      "image/png": "[encoded data removed]",
      "text/plain": [
       "<Figure size 432x288 with 1 Axes>"
      ]
     },
     "metadata": {
      "needs_background": "light"
     },
     "output_type": "display_data"
    }
   ],
   "source": [
    "plt.scatter(rts['total_word_count'], rts['sent'])\n",
    "plt.title('Post Sentiment by Length for Rant')\n",
    "plt.xlabel('Word Count')\n",
    "plt.ylabel('Sentiment');"
   ]
  },
  {
   "cell_type": "markdown",
   "metadata": {},
   "source": [
    "This plot shows that as word count increases, sentiment gravitates towards either 1 or -1. The longer the rant, the more \"enthusiasm\" the posts has "
   ]
  },
  {
   "cell_type": "code",
   "execution_count": 322,
   "metadata": {},
   "outputs": [
    {
     "data": {
      "image/png": "[encoded data removed]",
      "text/plain": [
       "<Figure size 432x288 with 1 Axes>"
      ]
     },
     "metadata": {
      "needs_background": "light"
     },
     "output_type": "display_data"
    }
   ],
   "source": [
    "plt.scatter(ops['total_word_count'], ops['sent'])\n",
    "plt.title('Post Sentiment by Length for Unpopular Opinions')\n",
    "plt.xlabel('Word Count')\n",
    "plt.ylabel('Sentiment');"
   ]
  },
  {
   "cell_type": "markdown",
   "metadata": {},
   "source": [
    "A similar yet less severe trend is seen for unpopular-opinions. As the post length increases, the sentiment of the post gravitates towards either 1 or -1 "
   ]
  },
  {
   "cell_type": "markdown",
   "metadata": {},
   "source": [
    "# Count Vectorizor Analysis "
   ]
  },
  {
   "cell_type": "code",
   "execution_count": 373,
   "metadata": {},
   "outputs": [],
   "source": [
    "X_rant = df.loc[df['subreddit'] == 'rant', 'lem']\n",
    "X_ops = df.loc[df['subreddit'] == 'unpopularopinion', 'lem']"
   ]
  },
  {
   "cell_type": "code",
   "execution_count": 374,
   "metadata": {},
   "outputs": [],
   "source": [
    "r_cvec = CountVectorizer(stop_words='english')\n",
    "op_cvec = CountVectorizer(stop_words='english')"
   ]
  },
  {
   "cell_type": "code",
   "execution_count": 383,
   "metadata": {},
   "outputs": [],
   "source": [
    "r_cvec.fit(X_rant)\n",
    "X_rant = r_cvec.transform(X_rant)\n",
    "\n",
    "op_cvec.fit(X_ops)\n",
    "X_ops = op_cvec.transform(X_ops)"
   ]
  },
  {
   "cell_type": "code",
   "execution_count": 406,
   "metadata": {},
   "outputs": [
    {
     "data": {
      "image/png": "[encoded data removed]",
      "text/plain": [
       "<Figure size 432x288 with 1 Axes>"
      ]
     },
     "metadata": {
      "needs_background": "light"
     },
     "output_type": "display_data"
    }
   ],
   "source": [
    "X_rant_df = pd.DataFrame(X_rant.todense(), columns=r_cvec.get_feature_names())\n",
    "X_rant_df.sum().sort_values(ascending=False).head(10).plot(kind='barh')\n",
    "plt.title('Top 10 Words in Rant')\n",
    "plt.xlabel('Frequency');"
   ]
  },
  {
   "cell_type": "markdown",
   "metadata": {},
   "source": [
    "The f-word jumps off the screen. It makes sense that it is 7th most frequent work in the rant subreddit, when people are ranting about something, they are usually angry (sentiment distribution), and those types of words are more likely to be used. "
   ]
  },
  {
   "cell_type": "code",
   "execution_count": 407,
   "metadata": {},
   "outputs": [
    {
     "data": {
      "image/png": "[encoded data removed]",
      "text/plain": [
       "<Figure size 432x288 with 1 Axes>"
      ]
     },
     "metadata": {
      "needs_background": "light"
     },
     "output_type": "display_data"
    }
   ],
   "source": [
    "X_ops_df = pd.DataFrame(X_ops.todense(), columns=op_cvec.get_feature_names())\n",
    "X_ops_df.sum().sort_values(ascending=False).head(10).plot(kind='barh')\n",
    "plt.title('Top 10 Words in Unpopular Opinions')\n",
    "plt.xlabel('Frequency');"
   ]
  },
  {
   "cell_type": "markdown",
   "metadata": {},
   "source": [
    "The unpopular-opininions subreddit has 7 of the common words seen in rant. The 3 other words are: thing, make and think. It also makes sense these 3 words are unqiue to unpopular-opinions as these words are used when stating an opinion. "
   ]
  },
  {
   "cell_type": "code",
   "execution_count": 394,
   "metadata": {},
   "outputs": [
    {
     "data": {
      "text/plain": [
       "rant                0.520461\n",
       "unpopularopinion    0.479539\n",
       "Name: subreddit, dtype: float64"
      ]
     },
     "execution_count": 394,
     "metadata": {},
     "output_type": "execute_result"
    }
   ],
   "source": [
    "df['subreddit'].value_counts(normalize=True)"
   ]
  },
  {
   "cell_type": "code",
   "execution_count": null,
   "metadata": {},
   "outputs": [],
   "source": []
  }
 ],
 "metadata": {
  "kernelspec": {
   "display_name": "Python 3",
   "language": "python",
   "name": "python3"
  },
  "language_info": {
   "codemirror_mode": {
    "name": "ipython",
    "version": 3
   },
   "file_extension": ".py",
   "mimetype": "text/x-python",
   "name": "python",
   "nbconvert_exporter": "python",
   "pygments_lexer": "ipython3",
   "version": "3.8.5"
  }
 },
 "nbformat": 4,
 "nbformat_minor": 4
}
